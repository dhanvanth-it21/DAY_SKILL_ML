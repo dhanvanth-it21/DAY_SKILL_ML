{
 "cells": [
  {
   "cell_type": "code",
   "execution_count": 1,
   "metadata": {
    "id": "3E5hFaoG-DxS"
   },
   "outputs": [],
   "source": [
    "import nltk\n",
    "import random\n",
    "from nltk.chat.util import Chat, reflections"
   ]
  },
  {
   "cell_type": "code",
   "execution_count": 2,
   "metadata": {
    "id": "ngtoLOmD-THp"
   },
   "outputs": [],
   "source": [
    "responses = {\n",
    "    \".* star hotel.*\": [\n",
    "        \"We have a range of hotels from 1-star to 5-star.\",\n",
    "        \"Which star rating are you looking for?\",\n",
    "    ],\n",
    "    \".* hotel in .*\": [\n",
    "        \"Great! I found a hotel in {0}.\",\n",
    "        \"What is your budget (tariff)?\",\n",
    "    ],\n",
    "    \".* tariff.*\": [\n",
    "        \"Sure, what is your preferred tariff range?\",\n",
    "        \"Please specify your budget in dollars ($) per night.\",\n",
    "    ],\n",
    "    \".* book (.*) hotel in (.*) for (\\d+) dollars.*\": [\n",
    "        \"Your {0} hotel booking at {1} for ${2} has been confirmed!\",\n",
    "        \"Enjoy your stay!\",\n",
    "    ],\n",
    "    \".* available hotels.*\": [\n",
    "        \"Here are the available hotels:\",\n",
    "        \"You can choose from these hotels:\",\n",
    "        # Add a list of available hotels here\n",
    "    ],\n",
    "    \".* my booking.*\": [\n",
    "        \"You have booked the following rooms:\",\n",
    "        # Add a list of booked rooms here\n",
    "    ],\n",
    "    \".* exit.*\": [\"Thank you for using our service. Goodbye!\"],\n",
    "}\n",
    "\n",
    "available_hotels = [\n",
    "    {\"name\": \"Hotel A\", \"star_rating\": \"3-star\", \"location\": \"New York\", \"tariff\": 100, \"available_rooms\": 5},\n",
    "    {\"name\": \"Hotel B\", \"star_rating\": \"4-star\", \"location\": \"Paris\", \"tariff\": 150, \"available_rooms\": 10},\n",
    "    {\"name\": \"Hotel C\", \"star_rating\": \"5-star\", \"location\": \"London\", \"tariff\": 250, \"available_rooms\": 8},\n",
    "]\n",
    "\n",
    "booked_rooms = []"
   ]
  },
  {
   "cell_type": "code",
   "execution_count": 3,
   "metadata": {
    "id": "0XSGmc8q-TRR"
   },
   "outputs": [],
   "source": [
    "def handle_confirmation():\n",
    "    print(\"Is there anything else I can assist you with?\")\n",
    "    while True:\n",
    "        user_input = input(\"> \").strip().lower()\n",
    "\n",
    "        if user_input == \"yes\":\n",
    "            print(\"Great! Feel free to ask any other questions.\")\n",
    "            break\n",
    "        elif user_input == \"no\":\n",
    "            print(\"Thank you for using our service. Have a nice day!\")\n",
    "            exit()\n",
    "        else:\n",
    "            print(\"Please answer with 'yes' or 'no'.\")"
   ]
  },
  {
   "cell_type": "code",
   "execution_count": 4,
   "metadata": {
    "id": "j7UyJWiJ-TTx"
   },
   "outputs": [],
   "source": [
    "def hotel_booking_chatbot():\n",
    "    print(\"Hello! I'm your Hotel Room Booking Assistant. How can I assist you today?\")\n",
    "\n",
    "    while True:\n",
    "        user_input = input(\"> \").strip().lower()\n",
    "\n",
    "        if user_input == \"exit\":\n",
    "            print(\"Thank you for using our service. Goodbye!\")\n",
    "            break\n",
    "        response = None\n",
    "        for pattern, responses_list in responses.items():\n",
    "            if any(pattern_part in user_input for pattern_part in pattern.split()):\n",
    "                response = random.choice(responses_list)  # Select a random response\n",
    "                break\n",
    "\n",
    "        if response:\n",
    "            print(response.format(*user_input.split()[1:]))\n",
    "            handle_confirmation()\n",
    "        else:\n",
    "            print(\"I'm not sure how to respond to that. Can you please rephrase?\")\n",
    "            handle_confirmation()\n"
   ]
  },
  {
   "cell_type": "code",
   "execution_count": 6,
   "metadata": {
    "colab": {
     "base_uri": "https://localhost:8080/"
    },
    "id": "JG0rvzXCIYMW",
    "outputId": "5c814b9d-dad3-4c9a-ffe4-92dde57d1924"
   },
   "outputs": [
    {
     "name": "stdout",
     "output_type": "stream",
     "text": [
      "Hello! I'm your Hotel Room Booking Assistant. How can I assist you today?\n",
      "> hi\n",
      "I'm not sure how to respond to that. Can you please rephrase?\n",
      "Is there anything else I can assist you with?\n",
      "> hotel\n",
      "Please answer with 'yes' or 'no'.\n",
      "> yes\n",
      "Great! Feel free to ask any other questions.\n",
      "> hotel\n",
      "What is your budget (tariff)?\n",
      "Is there anything else I can assist you with?\n",
      "> 100\n",
      "Please answer with 'yes' or 'no'.\n",
      "> yes\n",
      "Great! Feel free to ask any other questions.\n",
      "> 100\n",
      "I'm not sure how to respond to that. Can you please rephrase?\n",
      "Is there anything else I can assist you with?\n",
      "> rs.100\n",
      "Please answer with 'yes' or 'no'.\n",
      "> yes\n",
      "Great! Feel free to ask any other questions.\n",
      "> quit\n",
      "I'm not sure how to respond to that. Can you please rephrase?\n",
      "Is there anything else I can assist you with?\n",
      "> exit\n",
      "Please answer with 'yes' or 'no'.\n",
      "> yes\n",
      "Great! Feel free to ask any other questions.\n",
      "> exit\n",
      "Thank you for using our service. Goodbye!\n"
     ]
    }
   ],
   "source": [
    "if __name__ == \"__main__\":\n",
    "    hotel_booking_chatbot()"
   ]
  },
  {
   "cell_type": "code",
   "execution_count": null,
   "metadata": {},
   "outputs": [],
   "source": []
  }
 ],
 "metadata": {
  "colab": {
   "provenance": []
  },
  "kernelspec": {
   "display_name": "Python 3 (ipykernel)",
   "language": "python",
   "name": "python3"
  },
  "language_info": {
   "codemirror_mode": {
    "name": "ipython",
    "version": 3
   },
   "file_extension": ".py",
   "mimetype": "text/x-python",
   "name": "python",
   "nbconvert_exporter": "python",
   "pygments_lexer": "ipython3",
   "version": "3.9.13"
  }
 },
 "nbformat": 4,
 "nbformat_minor": 1
}
