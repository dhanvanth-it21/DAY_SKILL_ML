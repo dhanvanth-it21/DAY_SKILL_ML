{
 "cells": [
  {
   "cell_type": "code",
   "execution_count": 1,
   "id": "1007ce21",
   "metadata": {},
   "outputs": [],
   "source": [
    "import pandas as pd\n",
    "\n",
    "# Sample dataset\n",
    "data = {\n",
    "    'Star Rating': [4, 5, 3, 4, 2],\n",
    "    'Hotel Name': ['Hotel A', 'Hotel B', 'Hotel C', 'Hotel D', 'Hotel E'],\n",
    "    'Location': ['City X', 'City Y', 'City X', 'City Z', 'City Y'],\n",
    "    'Tariff': [100, 150, 80, 120, 60]\n",
    "}\n",
    "\n",
    "# Create a DataFrame\n",
    "hotels_df = pd.DataFrame(data)\n"
   ]
  },
  {
   "cell_type": "code",
   "execution_count": null,
   "id": "8bef2032",
   "metadata": {},
   "outputs": [
    {
     "name": "stderr",
     "output_type": "stream",
     "text": [
      "[nltk_data] Downloading package punkt to\n",
      "[nltk_data]     C:\\Users\\student\\AppData\\Roaming\\nltk_data...\n",
      "[nltk_data]   Package punkt is already up-to-date!\n"
     ]
    },
    {
     "name": "stdout",
     "output_type": "stream",
     "text": [
      "You: hi\n",
      "Chatbot: I didn't understand your request. Please specify star rating, location, or tariff.\n",
      "You: 3 star\n",
      "Chatbot:  Star Rating Hotel Name Location  Tariff\n",
      "           3    Hotel C   City X      80\n",
      "You: 4 star\n",
      "Chatbot:  Star Rating Hotel Name Location  Tariff\n",
      "           4    Hotel A   City X     100\n",
      "           4    Hotel D   City Z     120\n",
      "You: x\n",
      "Chatbot: I didn't understand your request. Please specify star rating, location, or tariff.\n",
      "You: hote\n",
      "Chatbot: I didn't understand your request. Please specify star rating, location, or tariff.\n",
      "You: hotel\n",
      "Chatbot: I didn't understand your request. Please specify star rating, location, or tariff.\n",
      "You: City x\n",
      "Chatbot: I didn't understand your request. Please specify star rating, location, or tariff.\n",
      "You: City X\n",
      "Chatbot: I didn't understand your request. Please specify star rating, location, or tariff.\n"
     ]
    }
   ],
   "source": [
    "import nltk\n",
    "from nltk.tokenize import word_tokenize\n",
    "\n",
    "# Download NLTK resources if you haven't already\n",
    "nltk.download('punkt')\n",
    "\n",
    "# Function to tokenize user input and perform actions based on keywords\n",
    "def hotel_booking_chatbot(input_text):\n",
    "    tokens = word_tokenize(input_text.lower())\n",
    "\n",
    "    if 'star' in tokens:\n",
    "        # Extract star rating\n",
    "        star_index = tokens.index('star')\n",
    "        star_rating = tokens[star_index - 1]\n",
    "\n",
    "        # Filter hotels based on star rating\n",
    "        filtered_hotels = hotels_df[hotels_df['Star Rating'] == int(star_rating)]\n",
    "        \n",
    "        if not filtered_hotels.empty:\n",
    "            return filtered_hotels.to_string(index=False)\n",
    "        else:\n",
    "            return \"No hotels found with that star rating.\"\n",
    "\n",
    "    elif 'location' in tokens:\n",
    "        # Extract location\n",
    "        location_index = tokens.index('location')\n",
    "        location = tokens[location_index - 1]\n",
    "\n",
    "        # Filter hotels based on location\n",
    "        filtered_hotels = hotels_df[hotels_df['Location'] == location]\n",
    "\n",
    "        if not filtered_hotels.empty:\n",
    "            return filtered_hotels.to_string(index=False)\n",
    "        else:\n",
    "            return \"No hotels found in that location.\"\n",
    "\n",
    "    elif 'tariff' in tokens:\n",
    "        # Extract tariff\n",
    "        tariff_index = tokens.index('tariff')\n",
    "        tariff = tokens[tariff_index - 1]\n",
    "\n",
    "        # Filter hotels based on tariff\n",
    "        filtered_hotels = hotels_df[hotels_df['Tariff'] <= int(tariff)]\n",
    "\n",
    "        if not filtered_hotels.empty:\n",
    "            return filtered_hotels.to_string(index=False)\n",
    "        else:\n",
    "            return \"No hotels found within that tariff range.\"\n",
    "\n",
    "    else:\n",
    "        return \"I didn't understand your request. Please specify star rating, location, or tariff.\"\n",
    "\n",
    "# Interaction loop with the chatbot\n",
    "while True:\n",
    "    user_input = input(\"You: \")\n",
    "    if user_input.lower() == 'exit':\n",
    "        break\n",
    "    response = hotel_booking_chatbot(user_input)\n",
    "    print(\"Chatbot:\", response)\n",
    "\n",
    "print(\"Chatbot: Goodbye!\")\n",
    "\n"
   ]
  }
 ],
 "metadata": {
  "kernelspec": {
   "display_name": "Python 3 (ipykernel)",
   "language": "python",
   "name": "python3"
  },
  "language_info": {
   "codemirror_mode": {
    "name": "ipython",
    "version": 3
   },
   "file_extension": ".py",
   "mimetype": "text/x-python",
   "name": "python",
   "nbconvert_exporter": "python",
   "pygments_lexer": "ipython3",
   "version": "3.9.13"
  }
 },
 "nbformat": 4,
 "nbformat_minor": 5
}
