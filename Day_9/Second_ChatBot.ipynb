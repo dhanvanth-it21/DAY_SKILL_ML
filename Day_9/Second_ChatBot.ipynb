{
 "cells": [
  {
   "cell_type": "code",
   "execution_count": 12,
   "id": "ce123421",
   "metadata": {},
   "outputs": [
    {
     "name": "stderr",
     "output_type": "stream",
     "text": [
      "[nltk_data] Downloading package punkt to\n",
      "[nltk_data]     C:\\Users\\student\\AppData\\Roaming\\nltk_data...\n",
      "[nltk_data]   Package punkt is already up-to-date!\n"
     ]
    },
    {
     "data": {
      "text/plain": [
       "True"
      ]
     },
     "execution_count": 12,
     "metadata": {},
     "output_type": "execute_result"
    }
   ],
   "source": [
    "import nltk\n",
    "from nltk.chat.util import Chat, reflections\n",
    "\n",
    "nltk.download('punkt')\n"
   ]
  },
  {
   "cell_type": "code",
   "execution_count": 13,
   "id": "2ebe7a2f",
   "metadata": {},
   "outputs": [],
   "source": [
    "pairs = [\n",
    "    # Existing responses\n",
    "    [\"hi|hello|hey\", [\"Hello!\", \"Hi there!\", \"How can I assist you today?\"]],\n",
    "    [\"how are you\", [\"I'm just a chatbot, but I'm here to help!\"]],\n",
    "    [\"what is your name\", [\"I'm a simple chatbot.\"]],\n",
    "    [\"bye|goodbye\", [\"Goodbye!\", \"Have a great day!\"]],\n",
    "\n",
    "    # Hotel-related queries\n",
    "    [\"tell me about hotels\", [\"We have hotels with different star ratings in various locations. How can I assist you further?\"]],\n",
    "    [\"hotel (.*?) in (.*?)\", [\"I'm sorry, I couldn't find any information about that hotel in the specified location.\"]],\n",
    "    [\"(.*?) star hotels in (.*?)\", [\"We have several {} star hotels in {}.\"]],\n",
    "    \n",
    "    # Room booking parameters\n",
    "    [\"book a (.*?) star hotel in (.*?) for (.*?)\", [\"Sure, I can help you with that. Let me check for available options...\"]],\n",
    "]\n"
   ]
  },
  {
   "cell_type": "code",
   "execution_count": 14,
   "id": "319d0389",
   "metadata": {},
   "outputs": [],
   "source": [
    "def chat_with_bot():\n",
    "    print(\"Chatbot: Hello! How can I assist you today?\")\n",
    "    while True:\n",
    "        user_input = input(\"You: \")\n",
    "        if user_input.lower() == 'quit':\n",
    "            print(\"Chatbot: Goodbye!\")\n",
    "            break\n",
    "        elif \"book a\" in user_input.lower():\n",
    "            handle_room_booking(user_input)\n",
    "        else:\n",
    "            response = chatbot.respond(user_input)\n",
    "            print(\"Chatbot:\", response)\n",
    "\n",
    "def handle_room_booking(user_input):\n",
    "    # Parse user input for booking parameters\n",
    "    star_rating = re.search(r\"(\\d+) star\", user_input).group(1)\n",
    "    location = re.search(r\"in (.*?) for\", user_input).group(1)\n",
    "    tariff = re.search(r\"for (.*?)$\", user_input).group(1)\n",
    "\n",
    "    # Offer choices based on parameters (you can replace this with actual hotel data)\n",
    "    available_hotels = get_available_hotels(star_rating, location, tariff)\n",
    "\n",
    "    if available_hotels:\n",
    "        print(\"Chatbot: Here are some available options:\")\n",
    "        for i, hotel in enumerate(available_hotels, start=1):\n",
    "            print(f\"{i}. {hotel}\")\n",
    "        print(\"Chatbot: Which one would you like to book?\")\n",
    "    else:\n",
    "        print(\"Chatbot: I'm sorry, there are no available hotels matching your criteria.\")\n",
    "\n",
    "def get_available_hotels(star_rating, location, tariff):\n",
    "    # You can implement a database or API call here to retrieve actual hotel data\n",
    "    # For simplicity, we'll use a predefined list of hotels\n",
    "    hotels = [\n",
    "        {\"name\": \"Hotel A\", \"star_rating\": \"3\", \"location\": \"City Center\", \"tariff\": \"$100\"},\n",
    "        {\"name\": \"Hotel B\", \"star_rating\": \"4\", \"location\": \"Beachfront\", \"tariff\": \"$150\"},\n",
    "        {\"name\": \"Hotel C\", \"star_rating\": \"5\", \"location\": \"Mountain View\", \"tariff\": \"$200\"},\n",
    "    ]\n",
    "\n",
    "    # Filter hotels based on user preferences\n",
    "    available_hotels = [\n",
    "        hotel[\"name\"]\n",
    "        for hotel in hotels\n",
    "        if hotel[\"star_rating\"] == star_rating\n",
    "        and hotel[\"location\"] == location\n",
    "        and hotel[\"tariff\"] <= tariff\n",
    "    ]\n",
    "\n",
    "    return available_hotels\n"
   ]
  },
  {
   "cell_type": "code",
   "execution_count": 15,
   "id": "99723328",
   "metadata": {},
   "outputs": [],
   "source": [
    "chatbot = Chat(pairs, reflections)\n"
   ]
  },
  {
   "cell_type": "code",
   "execution_count": null,
   "id": "a0265085",
   "metadata": {},
   "outputs": [
    {
     "name": "stdout",
     "output_type": "stream",
     "text": [
      "Chatbot: Hello! How can I assist you today?\n"
     ]
    }
   ],
   "source": [
    "if __name__ == \"__main__\":\n",
    "    chat_with_bot()\n"
   ]
  },
  {
   "cell_type": "code",
   "execution_count": null,
   "id": "0c300ce7",
   "metadata": {},
   "outputs": [],
   "source": []
  },
  {
   "cell_type": "code",
   "execution_count": null,
   "id": "1b73151d",
   "metadata": {},
   "outputs": [],
   "source": []
  }
 ],
 "metadata": {
  "kernelspec": {
   "display_name": "Python 3 (ipykernel)",
   "language": "python",
   "name": "python3"
  },
  "language_info": {
   "codemirror_mode": {
    "name": "ipython",
    "version": 3
   },
   "file_extension": ".py",
   "mimetype": "text/x-python",
   "name": "python",
   "nbconvert_exporter": "python",
   "pygments_lexer": "ipython3",
   "version": "3.9.13"
  }
 },
 "nbformat": 4,
 "nbformat_minor": 5
}
