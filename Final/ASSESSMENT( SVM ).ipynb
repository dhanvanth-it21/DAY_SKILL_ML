{
 "cells": [
  {
   "cell_type": "code",
   "execution_count": 5,
   "id": "02341405",
   "metadata": {},
   "outputs": [
    {
     "data": {
      "text/html": [
       "<div>\n",
       "<style scoped>\n",
       "    .dataframe tbody tr th:only-of-type {\n",
       "        vertical-align: middle;\n",
       "    }\n",
       "\n",
       "    .dataframe tbody tr th {\n",
       "        vertical-align: top;\n",
       "    }\n",
       "\n",
       "    .dataframe thead th {\n",
       "        text-align: right;\n",
       "    }\n",
       "</style>\n",
       "<table border=\"1\" class=\"dataframe\">\n",
       "  <thead>\n",
       "    <tr style=\"text-align: right;\">\n",
       "      <th></th>\n",
       "      <th>Date</th>\n",
       "      <th>Time</th>\n",
       "      <th>PU_Address</th>\n",
       "      <th>DO_Address</th>\n",
       "      <th>Routing Details</th>\n",
       "      <th>PU_Address.1</th>\n",
       "      <th>Status</th>\n",
       "      <th>Status_numerical</th>\n",
       "    </tr>\n",
       "  </thead>\n",
       "  <tbody>\n",
       "    <tr>\n",
       "      <th>0</th>\n",
       "      <td>07-01-2014</td>\n",
       "      <td>7:15 AM</td>\n",
       "      <td>Brooklyn Museum, 200 Eastern Pkwy., BK NY;</td>\n",
       "      <td>1 Brookdale Plaza, BK NY;</td>\n",
       "      <td>PU: Brooklyn Museum, 200 Eastern Pkwy., BK NY;...</td>\n",
       "      <td>Brooklyn Museum, 200 Eastern Pkwy., BK NY; DO:...</td>\n",
       "      <td>Cancelled</td>\n",
       "      <td>0</td>\n",
       "    </tr>\n",
       "    <tr>\n",
       "      <th>1</th>\n",
       "      <td>07-01-2014</td>\n",
       "      <td>7:30 AM</td>\n",
       "      <td>33 Robert Dr., Short Hills NJ;</td>\n",
       "      <td>John F Kennedy International Airport, vitona A...</td>\n",
       "      <td>PU: 33 Robert Dr., Short Hills NJ; DO: John F ...</td>\n",
       "      <td>33 Robert Dr., Short Hills NJ; DO: John F Kenn...</td>\n",
       "      <td>Arrived</td>\n",
       "      <td>1</td>\n",
       "    </tr>\n",
       "    <tr>\n",
       "      <th>2</th>\n",
       "      <td>07-01-2014</td>\n",
       "      <td>8:00 AM</td>\n",
       "      <td>60 Glenmore Ave., BK NY;</td>\n",
       "      <td>2171 Nostrand Ave., BK NY;</td>\n",
       "      <td>PU: 60 Glenmore Ave., BK NY; DO: 2171 Nostrand...</td>\n",
       "      <td>60 Glenmore Ave., BK NY; DO: 2171 Nostrand Ave...</td>\n",
       "      <td>Assigned</td>\n",
       "      <td>0</td>\n",
       "    </tr>\n",
       "    <tr>\n",
       "      <th>3</th>\n",
       "      <td>07-01-2014</td>\n",
       "      <td>9:00 AM</td>\n",
       "      <td>128 East 31 St., BK NY;</td>\n",
       "      <td>369 93rd St., BK NY;</td>\n",
       "      <td>PU: 128 East 31 St., BK NY; DO: 369 93rd St., ...</td>\n",
       "      <td>128 East 31 St., BK NY; DO: 369 93rd St., BK NY;</td>\n",
       "      <td>Assigned</td>\n",
       "      <td>0</td>\n",
       "    </tr>\n",
       "    <tr>\n",
       "      <th>4</th>\n",
       "      <td>07-01-2014</td>\n",
       "      <td>9:30 AM</td>\n",
       "      <td>139-39 35 Ave., Flushing NY;</td>\n",
       "      <td>La Guardia Airport;</td>\n",
       "      <td>PU: 139-39 35 Ave., Flushing NY; DO: La Guardi...</td>\n",
       "      <td>139-39 35 Ave., Flushing NY; DO: La Guardia Ai...</td>\n",
       "      <td>Assigned</td>\n",
       "      <td>0</td>\n",
       "    </tr>\n",
       "  </tbody>\n",
       "</table>\n",
       "</div>"
      ],
      "text/plain": [
       "         Date     Time                                  PU_Address  \\\n",
       "0  07-01-2014  7:15 AM  Brooklyn Museum, 200 Eastern Pkwy., BK NY;   \n",
       "1  07-01-2014  7:30 AM              33 Robert Dr., Short Hills NJ;   \n",
       "2  07-01-2014  8:00 AM                    60 Glenmore Ave., BK NY;   \n",
       "3  07-01-2014  9:00 AM                     128 East 31 St., BK NY;   \n",
       "4  07-01-2014  9:30 AM                139-39 35 Ave., Flushing NY;   \n",
       "\n",
       "                                          DO_Address  \\\n",
       "0                         1 Brookdale Plaza, BK NY;    \n",
       "1  John F Kennedy International Airport, vitona A...   \n",
       "2                        2171 Nostrand Ave., BK NY;    \n",
       "3                              369 93rd St., BK NY;    \n",
       "4                               La Guardia Airport;    \n",
       "\n",
       "                                     Routing Details  \\\n",
       "0  PU: Brooklyn Museum, 200 Eastern Pkwy., BK NY;...   \n",
       "1  PU: 33 Robert Dr., Short Hills NJ; DO: John F ...   \n",
       "2  PU: 60 Glenmore Ave., BK NY; DO: 2171 Nostrand...   \n",
       "3  PU: 128 East 31 St., BK NY; DO: 369 93rd St., ...   \n",
       "4  PU: 139-39 35 Ave., Flushing NY; DO: La Guardi...   \n",
       "\n",
       "                                        PU_Address.1     Status  \\\n",
       "0  Brooklyn Museum, 200 Eastern Pkwy., BK NY; DO:...  Cancelled   \n",
       "1  33 Robert Dr., Short Hills NJ; DO: John F Kenn...    Arrived   \n",
       "2  60 Glenmore Ave., BK NY; DO: 2171 Nostrand Ave...   Assigned   \n",
       "3  128 East 31 St., BK NY; DO: 369 93rd St., BK NY;    Assigned   \n",
       "4  139-39 35 Ave., Flushing NY; DO: La Guardia Ai...   Assigned   \n",
       "\n",
       "   Status_numerical  \n",
       "0                 0  \n",
       "1                 1  \n",
       "2                 0  \n",
       "3                 0  \n",
       "4                 0  "
      ]
     },
     "execution_count": 5,
     "metadata": {},
     "output_type": "execute_result"
    }
   ],
   "source": [
    "import numpy as np\n",
    "import matplotlib.pyplot as plt\n",
    "import pandas as pd\n",
    "from sklearn.preprocessing import StandardScaler,LabelEncoder\n",
    "\n",
    "df = pd.read_csv('other-Federal_02216.csv')\n",
    "df.head()"
   ]
  },
  {
   "cell_type": "code",
   "execution_count": 6,
   "id": "320ad3bf",
   "metadata": {},
   "outputs": [
    {
     "data": {
      "text/plain": [
       "(276, 8)"
      ]
     },
     "execution_count": 6,
     "metadata": {},
     "output_type": "execute_result"
    }
   ],
   "source": [
    "df.shape"
   ]
  },
  {
   "cell_type": "code",
   "execution_count": 7,
   "id": "ecfb2409",
   "metadata": {},
   "outputs": [],
   "source": [
    "X = df.iloc[:, [2,3]]\n",
    "Y = df.iloc[:, 7]"
   ]
  },
  {
   "cell_type": "code",
   "execution_count": 8,
   "id": "191e4dcb",
   "metadata": {},
   "outputs": [
    {
     "data": {
      "text/html": [
       "<div>\n",
       "<style scoped>\n",
       "    .dataframe tbody tr th:only-of-type {\n",
       "        vertical-align: middle;\n",
       "    }\n",
       "\n",
       "    .dataframe tbody tr th {\n",
       "        vertical-align: top;\n",
       "    }\n",
       "\n",
       "    .dataframe thead th {\n",
       "        text-align: right;\n",
       "    }\n",
       "</style>\n",
       "<table border=\"1\" class=\"dataframe\">\n",
       "  <thead>\n",
       "    <tr style=\"text-align: right;\">\n",
       "      <th></th>\n",
       "      <th>PU_Address</th>\n",
       "      <th>DO_Address</th>\n",
       "    </tr>\n",
       "  </thead>\n",
       "  <tbody>\n",
       "    <tr>\n",
       "      <th>0</th>\n",
       "      <td>Brooklyn Museum, 200 Eastern Pkwy., BK NY;</td>\n",
       "      <td>1 Brookdale Plaza, BK NY;</td>\n",
       "    </tr>\n",
       "    <tr>\n",
       "      <th>1</th>\n",
       "      <td>33 Robert Dr., Short Hills NJ;</td>\n",
       "      <td>John F Kennedy International Airport, vitona A...</td>\n",
       "    </tr>\n",
       "    <tr>\n",
       "      <th>2</th>\n",
       "      <td>60 Glenmore Ave., BK NY;</td>\n",
       "      <td>2171 Nostrand Ave., BK NY;</td>\n",
       "    </tr>\n",
       "    <tr>\n",
       "      <th>3</th>\n",
       "      <td>128 East 31 St., BK NY;</td>\n",
       "      <td>369 93rd St., BK NY;</td>\n",
       "    </tr>\n",
       "    <tr>\n",
       "      <th>4</th>\n",
       "      <td>139-39 35 Ave., Flushing NY;</td>\n",
       "      <td>La Guardia Airport;</td>\n",
       "    </tr>\n",
       "  </tbody>\n",
       "</table>\n",
       "</div>"
      ],
      "text/plain": [
       "                                   PU_Address  \\\n",
       "0  Brooklyn Museum, 200 Eastern Pkwy., BK NY;   \n",
       "1              33 Robert Dr., Short Hills NJ;   \n",
       "2                    60 Glenmore Ave., BK NY;   \n",
       "3                     128 East 31 St., BK NY;   \n",
       "4                139-39 35 Ave., Flushing NY;   \n",
       "\n",
       "                                          DO_Address  \n",
       "0                         1 Brookdale Plaza, BK NY;   \n",
       "1  John F Kennedy International Airport, vitona A...  \n",
       "2                        2171 Nostrand Ave., BK NY;   \n",
       "3                              369 93rd St., BK NY;   \n",
       "4                               La Guardia Airport;   "
      ]
     },
     "execution_count": 8,
     "metadata": {},
     "output_type": "execute_result"
    }
   ],
   "source": [
    "X.head()"
   ]
  },
  {
   "cell_type": "code",
   "execution_count": 9,
   "id": "0f30ba98",
   "metadata": {},
   "outputs": [
    {
     "data": {
      "text/plain": [
       "0    0\n",
       "1    1\n",
       "2    0\n",
       "3    0\n",
       "4    0\n",
       "Name: Status_numerical, dtype: int64"
      ]
     },
     "execution_count": 9,
     "metadata": {},
     "output_type": "execute_result"
    }
   ],
   "source": [
    "Y.head()"
   ]
  },
  {
   "cell_type": "code",
   "execution_count": 10,
   "id": "f67f84ff",
   "metadata": {},
   "outputs": [],
   "source": [
    "le = LabelEncoder()\n",
    "X = X.apply(le.fit_transform)"
   ]
  },
  {
   "cell_type": "code",
   "execution_count": 11,
   "id": "022d0233",
   "metadata": {},
   "outputs": [],
   "source": [
    "from sklearn.model_selection import train_test_split\n",
    "X_train,X_test,Y_train,Y_test = train_test_split(X,Y,test_size = 0.25,random_state = 0)"
   ]
  },
  {
   "cell_type": "code",
   "execution_count": 12,
   "id": "44514779",
   "metadata": {},
   "outputs": [
    {
     "name": "stdout",
     "output_type": "stream",
     "text": [
      "Training data :  (207, 2)\n",
      "Training data :  (69, 2)\n"
     ]
    }
   ],
   "source": [
    "print(\"Training data : \",X_train.shape)\n",
    "print(\"Training data : \",X_test.shape)"
   ]
  },
  {
   "cell_type": "code",
   "execution_count": 13,
   "id": "252f2f48",
   "metadata": {},
   "outputs": [],
   "source": [
    "sc_X = StandardScaler()\n",
    "X_train = sc_X.fit_transform(X_train)\n",
    "X_test = sc_X.transform(X_test)"
   ]
  },
  {
   "cell_type": "code",
   "execution_count": 14,
   "id": "993f2627",
   "metadata": {},
   "outputs": [
    {
     "data": {
      "text/plain": [
       "SVC(kernel='linear', random_state=0)"
      ]
     },
     "execution_count": 14,
     "metadata": {},
     "output_type": "execute_result"
    }
   ],
   "source": [
    "from sklearn.svm import SVC\n",
    "classifier = SVC(kernel = 'linear',random_state = 0)\n",
    "classifier.fit(X_train,Y_train)"
   ]
  },
  {
   "cell_type": "code",
   "execution_count": 15,
   "id": "c4652b6b",
   "metadata": {},
   "outputs": [
    {
     "data": {
      "text/plain": [
       "array([0, 0, 0, 0, 0, 0, 0, 0, 0, 0, 0, 0, 0, 0, 0, 0, 0, 0, 0, 0, 0, 0,\n",
       "       0, 0, 0, 0, 0, 0, 0, 0, 0, 0, 0, 0, 0, 0, 0, 0, 0, 0, 0, 0, 0, 0,\n",
       "       0, 0, 0, 0, 0, 0, 0, 0, 0, 0, 0, 0, 0, 0, 0, 0, 0, 0, 0, 0, 0, 0,\n",
       "       0, 0, 0], dtype=int64)"
      ]
     },
     "execution_count": 15,
     "metadata": {},
     "output_type": "execute_result"
    }
   ],
   "source": [
    "Y_Pred = classifier.predict(X_test)\n",
    "Y_Pred"
   ]
  },
  {
   "cell_type": "code",
   "execution_count": 16,
   "id": "a4c2691e",
   "metadata": {},
   "outputs": [
    {
     "name": "stdout",
     "output_type": "stream",
     "text": [
      "Accuracy score with linear kernel\n",
      "0.5362318840579711\n"
     ]
    }
   ],
   "source": [
    "from sklearn import metrics\n",
    "print('Accuracy score with linear kernel')\n",
    "print(metrics.accuracy_score(Y_test,Y_Pred))"
   ]
  },
  {
   "cell_type": "code",
   "execution_count": 17,
   "id": "a5bae5e7",
   "metadata": {},
   "outputs": [
    {
     "name": "stdout",
     "output_type": "stream",
     "text": [
      "Accuracy score with rbf kernel\n",
      "0.5072463768115942\n"
     ]
    }
   ],
   "source": [
    "from sklearn.svm import SVC\n",
    "classifier = SVC(kernel = 'rbf')\n",
    "classifier.fit(X_train,Y_train)\n",
    "\n",
    "Y_Pred = classifier.predict(X_test)\n",
    "\n",
    "print('Accuracy score with rbf kernel')\n",
    "print(metrics.accuracy_score(Y_test,Y_Pred))"
   ]
  },
  {
   "cell_type": "code",
   "execution_count": 25,
   "id": "2f42bf9f",
   "metadata": {
    "scrolled": true
   },
   "outputs": [
    {
     "name": "stdout",
     "output_type": "stream",
     "text": [
      "Accuracy score with rbf kernel\n",
      "0.5507246376811594\n"
     ]
    }
   ],
   "source": [
    "from sklearn.svm import SVC\n",
    "classifier = SVC(kernel = 'rbf', gamma = 15, C = 7,random_state = 0)\n",
    "classifier.fit(X_train,Y_train)\n",
    "\n",
    "Y_Pred = classifier.predict(X_test)\n",
    "\n",
    "print('Accuracy score with rbf kernel')\n",
    "print(metrics.accuracy_score(Y_test,Y_Pred))"
   ]
  },
  {
   "cell_type": "code",
   "execution_count": 19,
   "id": "523c3a39",
   "metadata": {},
   "outputs": [
    {
     "name": "stdout",
     "output_type": "stream",
     "text": [
      "Accuracy score with poly kernel and degree\n",
      "0.42028985507246375\n"
     ]
    }
   ],
   "source": [
    "svc = SVC(kernel = 'poly', degree = 4)\n",
    "svc.fit(X_train,Y_train)\n",
    "\n",
    "Y_Pred = svc.predict(X_test)\n",
    "\n",
    "print('Accuracy score with poly kernel and degree')\n",
    "print(metrics.accuracy_score(Y_test,Y_Pred))"
   ]
  },
  {
   "cell_type": "code",
   "execution_count": null,
   "id": "0a76b60b",
   "metadata": {},
   "outputs": [],
   "source": []
  },
  {
   "cell_type": "code",
   "execution_count": null,
   "id": "825d0f27",
   "metadata": {},
   "outputs": [],
   "source": []
  }
 ],
 "metadata": {
  "kernelspec": {
   "display_name": "Python 3 (ipykernel)",
   "language": "python",
   "name": "python3"
  },
  "language_info": {
   "codemirror_mode": {
    "name": "ipython",
    "version": 3
   },
   "file_extension": ".py",
   "mimetype": "text/x-python",
   "name": "python",
   "nbconvert_exporter": "python",
   "pygments_lexer": "ipython3",
   "version": "3.9.13"
  }
 },
 "nbformat": 4,
 "nbformat_minor": 5
}
