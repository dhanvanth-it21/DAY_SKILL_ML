{
 "cells": [
  {
   "cell_type": "code",
   "execution_count": 1,
   "id": "643db4ed",
   "metadata": {},
   "outputs": [],
   "source": [
    "import pandas as pd\n",
    "from sklearn.tree import DecisionTreeClassifier\n",
    "from sklearn import tree\n",
    "\n",
    "\n",
    "\n",
    "df = pd.read_csv(\"music.csv\")\n",
    "X = df.drop(columns = [\"genre\"])\n",
    "y = df[\"genre\"]\n",
    "model = DecisionTreeClassifier()\n",
    "model.fit(X,y)\n",
    "\n",
    "\n",
    "\n",
    "\n",
    "\n",
    "# prediction = model.predict([[21,1]])\n",
    "# prediction\n",
    "\n",
    "# best way to analyse the data \n",
    "# here we are going create a graph by passing many parameter and export in dot format\n",
    "tree.export_graphviz(\n",
    "    model,\n",
    "    out_file = (\"music_recommender.dot\"),\n",
    "    feature_names = ['age','gender'],\n",
    "    class_names = sorted(y.unique()),\n",
    "    label = 'all',\n",
    "    rounded = True,\n",
    "    filled = True\n",
    ")\n",
    "\n",
    "\n",
    "# in VS code install the dot extension and open the file\n",
    "#  at top right coner click three dots and click \"open preview to the slide\" to visualize the graph"
   ]
  },
  {
   "cell_type": "code",
   "execution_count": null,
   "id": "bc0e29d1",
   "metadata": {},
   "outputs": [],
   "source": []
  }
 ],
 "metadata": {
  "kernelspec": {
   "display_name": "Python 3 (ipykernel)",
   "language": "python",
   "name": "python3"
  },
  "language_info": {
   "codemirror_mode": {
    "name": "ipython",
    "version": 3
   },
   "file_extension": ".py",
   "mimetype": "text/x-python",
   "name": "python",
   "nbconvert_exporter": "python",
   "pygments_lexer": "ipython3",
   "version": "3.9.13"
  }
 },
 "nbformat": 4,
 "nbformat_minor": 5
}
