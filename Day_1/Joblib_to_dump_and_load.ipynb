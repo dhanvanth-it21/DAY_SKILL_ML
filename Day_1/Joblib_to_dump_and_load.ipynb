{
 "cells": [
  {
   "cell_type": "code",
   "execution_count": 7,
   "id": "b3b85c35",
   "metadata": {},
   "outputs": [
    {
     "name": "stderr",
     "output_type": "stream",
     "text": [
      "C:\\ProgramData\\Anaconda3\\lib\\site-packages\\sklearn\\base.py:450: UserWarning: X does not have valid feature names, but DecisionTreeClassifier was fitted with feature names\n",
      "  warnings.warn(\n"
     ]
    },
    {
     "data": {
      "text/plain": [
       "array(['HipHop'], dtype=object)"
      ]
     },
     "execution_count": 7,
     "metadata": {},
     "output_type": "execute_result"
    }
   ],
   "source": [
    "import pandas as pd\n",
    "from sklearn.tree import DecisionTreeClassifier\n",
    "# from sklearn.model_selection  import train_test_split\n",
    "# from sklearn.metrics import accuracy_score\n",
    "# from sklearn.externals \n",
    "import joblib\n",
    "df = pd.read_csv(\"music.csv\")\n",
    "X = df.drop(columns = [\"genre\"])\n",
    "y = df[\"genre\"]\n",
    "# model = DecisionTreeClassifier()\n",
    "# model.fit(X,y)\n",
    "\n",
    "# # this is for dump()\n",
    "# joblib.dump(model , \"music_recommender.joblib\")\n",
    "\n",
    "# X_train,X_test,y_train,y_test = train_test_split(X,y,test_size = 0.2)\n",
    "# predictions = model.predict(X_test)\n",
    "# predictions\n",
    "# score = accuracy_score(y_test,predictions)\n",
    "# score\n",
    "model = joblib.load(\"music_recommender.joblib\")\n",
    "predictions = model.predict([[21,1]])\n",
    "predictions\n"
   ]
  },
  {
   "cell_type": "markdown",
   "id": "337aada3",
   "metadata": {},
   "source": [
    "## now we are going to make a model and download it,\n",
    "## this will be useful beacuse  we no need to train and test our model  every time we run, it will be time comsuming in real life application"
   ]
  },
  {
   "cell_type": "markdown",
   "id": "0f90adce",
   "metadata": {},
   "source": [
    "## this can be achived by joblib from sklearn.externals\n",
    "## it have two main method => dump() => to download and load() to load the model"
   ]
  },
  {
   "cell_type": "code",
   "execution_count": 8,
   "id": "8e3dc5f6",
   "metadata": {},
   "outputs": [],
   "source": [
    "##--------------------------------------------------------------------------------------------------------------"
   ]
  },
  {
   "cell_type": "markdown",
   "id": "b90958bd",
   "metadata": {},
   "source": [
    "## Normal code every time training and testing"
   ]
  },
  {
   "cell_type": "code",
   "execution_count": 10,
   "id": "acf2af02",
   "metadata": {},
   "outputs": [
    {
     "data": {
      "text/plain": [
       "1.0"
      ]
     },
     "execution_count": 10,
     "metadata": {},
     "output_type": "execute_result"
    }
   ],
   "source": [
    "import pandas as pd\n",
    "from sklearn.tree import DecisionTreeClassifier\n",
    "from sklearn.model_selection  import train_test_split\n",
    "from sklearn.metrics import accuracy_score\n",
    "\n",
    "df = pd.read_csv(\"music.csv\")\n",
    "X = df.drop(columns = [\"genre\"])\n",
    "y = df[\"genre\"]\n",
    "model = DecisionTreeClassifier()\n",
    "model.fit(X,y)\n",
    "\n",
    "\n",
    "X_train,X_test,y_train,y_test = train_test_split(X,y,test_size = 0.2)\n",
    "predictions = model.predict(X_test)\n",
    "predictions\n",
    "score = accuracy_score(y_test,predictions)\n",
    "score\n",
    "\n"
   ]
  },
  {
   "cell_type": "markdown",
   "id": "0be2fcdd",
   "metadata": {},
   "source": [
    "## code to dump the model"
   ]
  },
  {
   "cell_type": "code",
   "execution_count": 11,
   "id": "1fbe91ce",
   "metadata": {},
   "outputs": [
    {
     "data": {
      "text/plain": [
       "['music_recommender1.joblib']"
      ]
     },
     "execution_count": 11,
     "metadata": {},
     "output_type": "execute_result"
    }
   ],
   "source": [
    "import pandas as pd\n",
    "from sklearn.tree import DecisionTreeClassifier\n",
    "# from sklearn.externals \n",
    "import joblib\n",
    "df = pd.read_csv(\"music.csv\")\n",
    "X = df.drop(columns = [\"genre\"])\n",
    "y = df[\"genre\"]\n",
    "model = DecisionTreeClassifier()\n",
    "model.fit(X,y)\n",
    "\n",
    "# this is for dump()\n",
    "joblib.dump(model , \"music_recommender1.joblib\")\n",
    "\n",
    "\n",
    "\n"
   ]
  },
  {
   "cell_type": "markdown",
   "id": "235b8413",
   "metadata": {},
   "source": [
    "## code to load the existing model  for prediction"
   ]
  },
  {
   "cell_type": "code",
   "execution_count": 12,
   "id": "85586556",
   "metadata": {},
   "outputs": [
    {
     "name": "stderr",
     "output_type": "stream",
     "text": [
      "C:\\ProgramData\\Anaconda3\\lib\\site-packages\\sklearn\\base.py:450: UserWarning: X does not have valid feature names, but DecisionTreeClassifier was fitted with feature names\n",
      "  warnings.warn(\n"
     ]
    },
    {
     "data": {
      "text/plain": [
       "array(['HipHop'], dtype=object)"
      ]
     },
     "execution_count": 12,
     "metadata": {},
     "output_type": "execute_result"
    }
   ],
   "source": [
    "import pandas as pd\n",
    "\n",
    "\n",
    "import joblib\n",
    "\n",
    "\n",
    "model = joblib.load(\"music_recommender1.joblib\")\n",
    "predictions = model.predict([[21,1]])\n",
    "predictions"
   ]
  },
  {
   "cell_type": "code",
   "execution_count": null,
   "id": "44131859",
   "metadata": {},
   "outputs": [],
   "source": []
  }
 ],
 "metadata": {
  "kernelspec": {
   "display_name": "Python 3 (ipykernel)",
   "language": "python",
   "name": "python3"
  },
  "language_info": {
   "codemirror_mode": {
    "name": "ipython",
    "version": 3
   },
   "file_extension": ".py",
   "mimetype": "text/x-python",
   "name": "python",
   "nbconvert_exporter": "python",
   "pygments_lexer": "ipython3",
   "version": "3.9.13"
  }
 },
 "nbformat": 4,
 "nbformat_minor": 5
}
